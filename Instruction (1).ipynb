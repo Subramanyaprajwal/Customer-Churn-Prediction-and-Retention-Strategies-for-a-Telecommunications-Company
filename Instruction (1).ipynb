{
 "cells": [
  {
   "cell_type": "markdown",
   "metadata": {
    "id": "GLLlE8C37hoe"
   },
   "source": [
    "#**Retention Strategies**\n",
    "\n",
    "###**Assignment**\n",
    "\n",
    "Start by defining and training a classification model to predict the churn of customers of a telecommunication company. Based on the data analysis, and possibly, the feature importance analysis in the model, suggest strategies that can be used to retain the customers. Simulate your strategies by altering the data and confirm their effectiveness using the model."
   ]
  },
  {
   "cell_type": "markdown",
   "metadata": {
    "id": "8kuQVYjj7hk4"
   },
   "source": [
    "###**Data Description**\n",
    "\n",
    "The customer churn data is given in the file Telco-Customer-Churn.json. Each row represents a customer, each column contains customer’s attributes described on the column Metadata.\n",
    "\n",
    "The data set includes information about:\n",
    "\n",
    "- Customers who left within the last month – the column is called Churn;\n",
    "- Services that each customer has signed up for – phone, multiple lines, internet, online security, online backup, device protection, tech support, and streaming TV and movies;\n",
    "- Customer account information – how long they’ve been a customer, contract, payment method, paperless billing, monthly charges, and total charges;\n",
    "- Demographic info about customers – gender, age range, and if they have partners and dependents."
   ]
  },
  {
   "cell_type": "markdown",
   "metadata": {
    "id": "892Lflkj7hh9"
   },
   "source": [
    "###**Practicalities**\n",
    "\n",
    "Define, train and evaluate a predictive model that takes as the input the data provided. You may want to split the data into training, testing and validation sets, according to your discretion. Do not use external data for this project. You may use any algorithm of your choice or compare multiple models.\n",
    "\n",
    "Make sure that the solution reflects your entire thought process - it is more important how the code is structured rather than the final metrics.\n",
    "\n",
    "\n",
    "#### To download the dataset <a href=\"https://drive.google.com/drive/folders/1mu1QKuC4t2PugPl-24VtysphrwLfyXzt?usp=sharing\"> Click here </a>"
   ]
  },
  {
   "cell_type": "code",
   "execution_count": 1,
   "metadata": {},
   "outputs": [
    {
     "name": "stdout",
     "output_type": "stream",
     "text": [
      "   customerID Churn                                           customer  \\\n",
      "0  0002-ORFBO    No  {'gender': 'Female', 'SeniorCitizen': 0, 'Part...   \n",
      "1  0003-MKNFE    No  {'gender': 'Male', 'SeniorCitizen': 0, 'Partne...   \n",
      "2  0004-TLHLJ   Yes  {'gender': 'Male', 'SeniorCitizen': 0, 'Partne...   \n",
      "3  0011-IGKFF   Yes  {'gender': 'Male', 'SeniorCitizen': 1, 'Partne...   \n",
      "4  0013-EXCHZ   Yes  {'gender': 'Female', 'SeniorCitizen': 1, 'Part...   \n",
      "\n",
      "                                             phone  \\\n",
      "0   {'PhoneService': 'Yes', 'MultipleLines': 'No'}   \n",
      "1  {'PhoneService': 'Yes', 'MultipleLines': 'Yes'}   \n",
      "2   {'PhoneService': 'Yes', 'MultipleLines': 'No'}   \n",
      "3   {'PhoneService': 'Yes', 'MultipleLines': 'No'}   \n",
      "4   {'PhoneService': 'Yes', 'MultipleLines': 'No'}   \n",
      "\n",
      "                                            internet  \\\n",
      "0  {'InternetService': 'DSL', 'OnlineSecurity': '...   \n",
      "1  {'InternetService': 'DSL', 'OnlineSecurity': '...   \n",
      "2  {'InternetService': 'Fiber optic', 'OnlineSecu...   \n",
      "3  {'InternetService': 'Fiber optic', 'OnlineSecu...   \n",
      "4  {'InternetService': 'Fiber optic', 'OnlineSecu...   \n",
      "\n",
      "                                             account  \n",
      "0  {'Contract': 'One year', 'PaperlessBilling': '...  \n",
      "1  {'Contract': 'Month-to-month', 'PaperlessBilli...  \n",
      "2  {'Contract': 'Month-to-month', 'PaperlessBilli...  \n",
      "3  {'Contract': 'Month-to-month', 'PaperlessBilli...  \n",
      "4  {'Contract': 'Month-to-month', 'PaperlessBilli...  \n",
      "customerID    0\n",
      "Churn         0\n",
      "customer      0\n",
      "phone         0\n",
      "internet      0\n",
      "account       0\n",
      "dtype: int64\n",
      "<class 'pandas.core.frame.DataFrame'>\n",
      "RangeIndex: 7267 entries, 0 to 7266\n",
      "Data columns (total 6 columns):\n",
      " #   Column      Non-Null Count  Dtype \n",
      "---  ------      --------------  ----- \n",
      " 0   customerID  7267 non-null   object\n",
      " 1   Churn       7267 non-null   object\n",
      " 2   customer    7267 non-null   object\n",
      " 3   phone       7267 non-null   object\n",
      " 4   internet    7267 non-null   object\n",
      " 5   account     7267 non-null   object\n",
      "dtypes: object(6)\n",
      "memory usage: 340.8+ KB\n",
      "None\n"
     ]
    }
   ],
   "source": [
    "import pandas as pd\n",
    "\n",
    "# Load the dataset\n",
    "file_path = \"Telco-Customer-Churn.json\"\n",
    "df = pd.read_json(file_path)\n",
    "\n",
    "# Inspect the first few rows of the dataset\n",
    "print(df.head())\n",
    "\n",
    "# Check for any missing values\n",
    "print(df.isnull().sum())\n",
    "\n",
    "# Get a summary of the dataset\n",
    "print(df.info())\n"
   ]
  },
  {
   "cell_type": "code",
   "execution_count": 2,
   "metadata": {},
   "outputs": [
    {
     "name": "stdout",
     "output_type": "stream",
     "text": [
      "   customerID Churn  gender  SeniorCitizen Partner Dependents  tenure  \\\n",
      "0  0002-ORFBO    No  Female              0     Yes        Yes       9   \n",
      "1  0003-MKNFE    No    Male              0      No         No       9   \n",
      "2  0004-TLHLJ   Yes    Male              0      No         No       4   \n",
      "3  0011-IGKFF   Yes    Male              1     Yes         No      13   \n",
      "4  0013-EXCHZ   Yes  Female              1     Yes         No       3   \n",
      "\n",
      "  PhoneService MultipleLines InternetService  ... OnlineBackup  \\\n",
      "0          Yes            No             DSL  ...          Yes   \n",
      "1          Yes           Yes             DSL  ...           No   \n",
      "2          Yes            No     Fiber optic  ...           No   \n",
      "3          Yes            No     Fiber optic  ...          Yes   \n",
      "4          Yes            No     Fiber optic  ...           No   \n",
      "\n",
      "  DeviceProtection TechSupport StreamingTV StreamingMovies        Contract  \\\n",
      "0               No         Yes         Yes              No        One year   \n",
      "1               No          No          No             Yes  Month-to-month   \n",
      "2              Yes          No          No              No  Month-to-month   \n",
      "3              Yes          No         Yes             Yes  Month-to-month   \n",
      "4               No         Yes         Yes              No  Month-to-month   \n",
      "\n",
      "  PaperlessBilling     PaymentMethod Charges.Monthly  Charges.Total  \n",
      "0              Yes      Mailed check            65.6          593.3  \n",
      "1               No      Mailed check            59.9          542.4  \n",
      "2              Yes  Electronic check            73.9         280.85  \n",
      "3              Yes  Electronic check            98.0        1237.85  \n",
      "4              Yes      Mailed check            83.9          267.4  \n",
      "\n",
      "[5 rows x 21 columns]\n",
      "customerID          0\n",
      "Churn               0\n",
      "gender              0\n",
      "SeniorCitizen       0\n",
      "Partner             0\n",
      "Dependents          0\n",
      "tenure              0\n",
      "PhoneService        0\n",
      "MultipleLines       0\n",
      "InternetService     0\n",
      "OnlineSecurity      0\n",
      "OnlineBackup        0\n",
      "DeviceProtection    0\n",
      "TechSupport         0\n",
      "StreamingTV         0\n",
      "StreamingMovies     0\n",
      "Contract            0\n",
      "PaperlessBilling    0\n",
      "PaymentMethod       0\n",
      "Charges.Monthly     0\n",
      "Charges.Total       0\n",
      "dtype: int64\n"
     ]
    }
   ],
   "source": [
    "# Expand the 'customer', 'phone', 'internet', and 'account' columns\n",
    "customer_df = pd.json_normalize(df['customer'])\n",
    "phone_df = pd.json_normalize(df['phone'])\n",
    "internet_df = pd.json_normalize(df['internet'])\n",
    "account_df = pd.json_normalize(df['account'])\n",
    "\n",
    "# Combine the expanded dataframes with the original dataframe\n",
    "df_flattened = pd.concat([df[['customerID', 'Churn']], customer_df, phone_df, internet_df, account_df], axis=1)\n",
    "\n",
    "# Inspect the flattened data\n",
    "print(df_flattened.head())\n",
    "\n",
    "# Check for any missing values in the new dataframe\n",
    "print(df_flattened.isnull().sum())\n"
   ]
  },
  {
   "cell_type": "code",
   "execution_count": 3,
   "metadata": {},
   "outputs": [
    {
     "name": "stdout",
     "output_type": "stream",
     "text": [
      "   customerID  Churn  gender  SeniorCitizen  Partner  Dependents  tenure  \\\n",
      "0  0002-ORFBO      0       0              0        1           1       9   \n",
      "1  0003-MKNFE      0       1              0        0           0       9   \n",
      "2  0004-TLHLJ      1       1              0        0           0       4   \n",
      "3  0011-IGKFF      1       1              1        1           0      13   \n",
      "4  0013-EXCHZ      1       0              1        1           0       3   \n",
      "\n",
      "   PhoneService  MultipleLines  InternetService  ...  OnlineBackup  \\\n",
      "0             1              0                0  ...             2   \n",
      "1             1              2                0  ...             0   \n",
      "2             1              0                1  ...             0   \n",
      "3             1              0                1  ...             2   \n",
      "4             1              0                1  ...             0   \n",
      "\n",
      "   DeviceProtection  TechSupport  StreamingTV  StreamingMovies  Contract  \\\n",
      "0                 0            2            2                0         1   \n",
      "1                 0            0            0                2         0   \n",
      "2                 2            0            0                0         0   \n",
      "3                 2            0            2                2         0   \n",
      "4                 0            2            2                0         0   \n",
      "\n",
      "   PaperlessBilling  PaymentMethod  Charges.Monthly  Charges.Total  \n",
      "0                 1              3             65.6         593.30  \n",
      "1                 0              3             59.9         542.40  \n",
      "2                 1              2             73.9         280.85  \n",
      "3                 1              2             98.0        1237.85  \n",
      "4                 1              3             83.9         267.40  \n",
      "\n",
      "[5 rows x 21 columns]\n",
      "<class 'pandas.core.frame.DataFrame'>\n",
      "Index: 7256 entries, 0 to 7266\n",
      "Data columns (total 21 columns):\n",
      " #   Column            Non-Null Count  Dtype  \n",
      "---  ------            --------------  -----  \n",
      " 0   customerID        7256 non-null   object \n",
      " 1   Churn             7256 non-null   int64  \n",
      " 2   gender            7256 non-null   int32  \n",
      " 3   SeniorCitizen     7256 non-null   int64  \n",
      " 4   Partner           7256 non-null   int32  \n",
      " 5   Dependents        7256 non-null   int32  \n",
      " 6   tenure            7256 non-null   int64  \n",
      " 7   PhoneService      7256 non-null   int32  \n",
      " 8   MultipleLines     7256 non-null   int32  \n",
      " 9   InternetService   7256 non-null   int32  \n",
      " 10  OnlineSecurity    7256 non-null   int32  \n",
      " 11  OnlineBackup      7256 non-null   int32  \n",
      " 12  DeviceProtection  7256 non-null   int32  \n",
      " 13  TechSupport       7256 non-null   int32  \n",
      " 14  StreamingTV       7256 non-null   int32  \n",
      " 15  StreamingMovies   7256 non-null   int32  \n",
      " 16  Contract          7256 non-null   int32  \n",
      " 17  PaperlessBilling  7256 non-null   int32  \n",
      " 18  PaymentMethod     7256 non-null   int32  \n",
      " 19  Charges.Monthly   7256 non-null   float64\n",
      " 20  Charges.Total     7256 non-null   float64\n",
      "dtypes: float64(2), int32(15), int64(3), object(1)\n",
      "memory usage: 822.0+ KB\n",
      "None\n"
     ]
    }
   ],
   "source": [
    "from sklearn.preprocessing import LabelEncoder\n",
    "\n",
    "# Convert 'Churn' to binary values (1 for \"Yes\", 0 for \"No\")\n",
    "df_flattened['Churn'] = df_flattened['Churn'].apply(lambda x: 1 if x == 'Yes' else 0)\n",
    "\n",
    "# Convert categorical columns using Label Encoding\n",
    "categorical_cols = ['gender', 'Partner', 'Dependents', 'PhoneService', 'MultipleLines',\n",
    "                    'InternetService', 'OnlineSecurity', 'OnlineBackup', 'DeviceProtection',\n",
    "                    'TechSupport', 'StreamingTV', 'StreamingMovies', 'Contract',\n",
    "                    'PaperlessBilling', 'PaymentMethod']\n",
    "\n",
    "le = LabelEncoder()\n",
    "for col in categorical_cols:\n",
    "    df_flattened[col] = le.fit_transform(df_flattened[col])\n",
    "\n",
    "# Convert 'Charges.Monthly' and 'Charges.Total' to numeric (float) types\n",
    "df_flattened['Charges.Monthly'] = pd.to_numeric(df_flattened['Charges.Monthly'], errors='coerce')\n",
    "df_flattened['Charges.Total'] = pd.to_numeric(df_flattened['Charges.Total'], errors='coerce')\n",
    "\n",
    "# Drop any rows with missing values in 'Charges.Monthly' and 'Charges.Total' if there are any\n",
    "df_flattened.dropna(subset=['Charges.Monthly', 'Charges.Total'], inplace=True)\n",
    "\n",
    "# Inspect the preprocessed data\n",
    "print(df_flattened.head())\n",
    "print(df_flattened.info())\n",
    "\n"
   ]
  },
  {
   "cell_type": "code",
   "execution_count": 4,
   "metadata": {},
   "outputs": [
    {
     "name": "stdout",
     "output_type": "stream",
     "text": [
      "Confusion Matrix:\n",
      "[[993 106]\n",
      " [159 194]]\n",
      "\n",
      "Classification Report:\n",
      "              precision    recall  f1-score   support\n",
      "\n",
      "           0       0.86      0.90      0.88      1099\n",
      "           1       0.65      0.55      0.59       353\n",
      "\n",
      "    accuracy                           0.82      1452\n",
      "   macro avg       0.75      0.73      0.74      1452\n",
      "weighted avg       0.81      0.82      0.81      1452\n",
      "\n",
      "\n",
      "Accuracy Score: 0.8174931129476584\n"
     ]
    },
    {
     "name": "stderr",
     "output_type": "stream",
     "text": [
      "C:\\Users\\subramanya\\anaconda3\\Lib\\site-packages\\sklearn\\linear_model\\_logistic.py:469: ConvergenceWarning: lbfgs failed to converge (status=1):\n",
      "STOP: TOTAL NO. of ITERATIONS REACHED LIMIT.\n",
      "\n",
      "Increase the number of iterations (max_iter) or scale the data as shown in:\n",
      "    https://scikit-learn.org/stable/modules/preprocessing.html\n",
      "Please also refer to the documentation for alternative solver options:\n",
      "    https://scikit-learn.org/stable/modules/linear_model.html#logistic-regression\n",
      "  n_iter_i = _check_optimize_result(\n"
     ]
    }
   ],
   "source": [
    "from sklearn.model_selection import train_test_split\n",
    "from sklearn.linear_model import LogisticRegression\n",
    "from sklearn.metrics import classification_report, confusion_matrix, accuracy_score\n",
    "\n",
    "# Drop 'customerID' as it's not relevant for the model\n",
    "X = df_flattened.drop(['customerID', 'Churn'], axis=1)\n",
    "y = df_flattened['Churn']\n",
    "\n",
    "# Split the data into training and testing sets (80% training, 20% testing)\n",
    "X_train, X_test, y_train, y_test = train_test_split(X, y, test_size=0.2, random_state=42)\n",
    "\n",
    "# Initialize the Logistic Regression model\n",
    "logreg = LogisticRegression(max_iter=1000)\n",
    "\n",
    "# Train the model\n",
    "logreg.fit(X_train, y_train)\n",
    "\n",
    "# Make predictions on the test set\n",
    "y_pred = logreg.predict(X_test)\n",
    "\n",
    "# Evaluate the model\n",
    "print(\"Confusion Matrix:\")\n",
    "print(confusion_matrix(y_test, y_pred))\n",
    "\n",
    "print(\"\\nClassification Report:\")\n",
    "print(classification_report(y_test, y_pred))\n",
    "\n",
    "print(\"\\nAccuracy Score:\", accuracy_score(y_test, y_pred))\n"
   ]
  },
  {
   "cell_type": "markdown",
   "metadata": {},
   "source": [
    "# SMOTE for Oversampling"
   ]
  },
  {
   "cell_type": "code",
   "execution_count": 5,
   "metadata": {},
   "outputs": [
    {
     "name": "stdout",
     "output_type": "stream",
     "text": [
      "Confusion Matrix (with SMOTE):\n",
      "[[839 260]\n",
      " [ 79 274]]\n",
      "\n",
      "Classification Report (with SMOTE):\n",
      "              precision    recall  f1-score   support\n",
      "\n",
      "           0       0.91      0.76      0.83      1099\n",
      "           1       0.51      0.78      0.62       353\n",
      "\n",
      "    accuracy                           0.77      1452\n",
      "   macro avg       0.71      0.77      0.72      1452\n",
      "weighted avg       0.82      0.77      0.78      1452\n",
      "\n",
      "\n",
      "Accuracy Score (with SMOTE): 0.7665289256198347\n"
     ]
    },
    {
     "name": "stderr",
     "output_type": "stream",
     "text": [
      "C:\\Users\\subramanya\\anaconda3\\Lib\\site-packages\\sklearn\\linear_model\\_logistic.py:469: ConvergenceWarning: lbfgs failed to converge (status=1):\n",
      "STOP: TOTAL NO. of ITERATIONS REACHED LIMIT.\n",
      "\n",
      "Increase the number of iterations (max_iter) or scale the data as shown in:\n",
      "    https://scikit-learn.org/stable/modules/preprocessing.html\n",
      "Please also refer to the documentation for alternative solver options:\n",
      "    https://scikit-learn.org/stable/modules/linear_model.html#logistic-regression\n",
      "  n_iter_i = _check_optimize_result(\n"
     ]
    }
   ],
   "source": [
    "from imblearn.over_sampling import SMOTE\n",
    "from sklearn.linear_model import LogisticRegression\n",
    "from sklearn.metrics import classification_report, confusion_matrix, accuracy_score\n",
    "\n",
    "# Apply SMOTE to balance the classes\n",
    "smote = SMOTE(random_state=42)\n",
    "X_train_smote, y_train_smote = smote.fit_resample(X_train, y_train)\n",
    "\n",
    "# Initialize the Logistic Regression model\n",
    "logreg_smote = LogisticRegression(max_iter=1000)\n",
    "\n",
    "# Train the model on the balanced data\n",
    "logreg_smote.fit(X_train_smote, y_train_smote)\n",
    "\n",
    "# Make predictions on the test set\n",
    "y_pred_smote = logreg_smote.predict(X_test)\n",
    "\n",
    "# Evaluate the model\n",
    "print(\"Confusion Matrix (with SMOTE):\")\n",
    "print(confusion_matrix(y_test, y_pred_smote))\n",
    "\n",
    "print(\"\\nClassification Report (with SMOTE):\")\n",
    "print(classification_report(y_test, y_pred_smote))\n",
    "\n",
    "print(\"\\nAccuracy Score (with SMOTE):\", accuracy_score(y_test, y_pred_smote))\n"
   ]
  },
  {
   "cell_type": "markdown",
   "metadata": {},
   "source": [
    "# Random Forest"
   ]
  },
  {
   "cell_type": "code",
   "execution_count": 6,
   "metadata": {},
   "outputs": [
    {
     "name": "stdout",
     "output_type": "stream",
     "text": [
      "Confusion Matrix (Random Forest):\n",
      "[[981 118]\n",
      " [190 163]]\n",
      "\n",
      "Classification Report (Random Forest):\n",
      "              precision    recall  f1-score   support\n",
      "\n",
      "           0       0.84      0.89      0.86      1099\n",
      "           1       0.58      0.46      0.51       353\n",
      "\n",
      "    accuracy                           0.79      1452\n",
      "   macro avg       0.71      0.68      0.69      1452\n",
      "weighted avg       0.78      0.79      0.78      1452\n",
      "\n",
      "\n",
      "Accuracy Score (Random Forest): 0.7878787878787878\n"
     ]
    }
   ],
   "source": [
    "from sklearn.ensemble import RandomForestClassifier\n",
    "from sklearn.metrics import classification_report, confusion_matrix, accuracy_score\n",
    "\n",
    "# Initialize the Random Forest model\n",
    "rf = RandomForestClassifier(random_state=42, n_estimators=100)\n",
    "\n",
    "# Train the model\n",
    "rf.fit(X_train, y_train)\n",
    "\n",
    "# Make predictions on the test set\n",
    "y_pred_rf = rf.predict(X_test)\n",
    "\n",
    "# Evaluate the model\n",
    "print(\"Confusion Matrix (Random Forest):\")\n",
    "print(confusion_matrix(y_test, y_pred_rf))\n",
    "\n",
    "print(\"\\nClassification Report (Random Forest):\")\n",
    "print(classification_report(y_test, y_pred_rf))\n",
    "\n",
    "print(\"\\nAccuracy Score (Random Forest):\", accuracy_score(y_test, y_pred_rf))\n"
   ]
  },
  {
   "cell_type": "code",
   "execution_count": null,
   "metadata": {},
   "outputs": [],
   "source": []
  }
 ],
 "metadata": {
  "colab": {
   "provenance": []
  },
  "kernelspec": {
   "display_name": "Python 3 (ipykernel)",
   "language": "python",
   "name": "python3"
  },
  "language_info": {
   "codemirror_mode": {
    "name": "ipython",
    "version": 3
   },
   "file_extension": ".py",
   "mimetype": "text/x-python",
   "name": "python",
   "nbconvert_exporter": "python",
   "pygments_lexer": "ipython3",
   "version": "3.11.5"
  }
 },
 "nbformat": 4,
 "nbformat_minor": 1
}
